{
 "cells": [
  {
   "cell_type": "code",
   "execution_count": 1,
   "id": "84c70235-681a-4c54-8b94-368c33071bcf",
   "metadata": {},
   "outputs": [
    {
     "name": "stdout",
     "output_type": "stream",
     "text": [
      "hello, there\n"
     ]
    }
   ],
   "source": [
    "println(\"hello, there\")"
   ]
  },
  {
   "cell_type": "code",
   "execution_count": null,
   "id": "f47f0850-234a-4275-bd06-2364ee5b8bce",
   "metadata": {},
   "outputs": [],
   "source": []
  }
 ],
 "metadata": {
  "kernelspec": {
   "display_name": "Julia 1.11.0-rc3",
   "language": "julia",
   "name": "julia-1.11"
  },
  "language_info": {
   "file_extension": ".jl",
   "mimetype": "application/julia",
   "name": "julia",
   "version": "1.11.0"
  }
 },
 "nbformat": 4,
 "nbformat_minor": 5
}
